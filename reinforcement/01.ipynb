{
 "cells": [
  {
   "cell_type": "markdown",
   "metadata": {},
   "source": [
    "## R 실습 1강: R 및 R studuo 설치"
   ]
  },
  {
   "cell_type": "markdown",
   "metadata": {},
   "source": [
    "### 1) R 및 R studuo 설치"
   ]
  },
  {
   "cell_type": "markdown",
   "metadata": {},
   "source": [
    "- R의 장점: R은 통계를 위한 프로그래밍 언어로서 무료로 사용할 수 있고, \n",
    "- 자유롭게 배포할 수있다는 것이 큰 장점이다. \n",
    "- 다양한 새로운 분석기법도 패키지 형태로 다운받아 설치한 후 활용할 수 있으며,\n",
    "- 그래픽 기능도 매우 우수하다. "
   ]
  },
  {
   "cell_type": "markdown",
   "metadata": {},
   "source": [
    "### 2) 데이터 불러들이고 확인하기"
   ]
  },
  {
   "cell_type": "code",
   "execution_count": 9,
   "metadata": {
    "vscode": {
     "languageId": "r"
    }
   },
   "outputs": [],
   "source": [
    "#데이터 불러들이기 예\n",
    "ex = read.csv('datasets/score.csv')"
   ]
  },
  {
   "cell_type": "code",
   "execution_count": 10,
   "metadata": {
    "vscode": {
     "languageId": "r"
    }
   },
   "outputs": [
    {
     "name": "stdout",
     "output_type": "stream",
     "text": [
      "'data.frame':\t10 obs. of  7 variables:\n",
      " $ ID    : int  1 2 3 4 5 6 7 8 9 10\n",
      " $ Age   : int  20 18 20 19 20 18 21 19 20 19\n",
      " $ Sex   : chr  \"?\" \"?\" \"?\" \"?\" ...\n",
      " $ Math  : int  89 90 95 90 85 88 96 88 70 93\n",
      " $ Eng   : int  95 75 90 95 90 87 94 92 85 90\n",
      " $ Height: int  175 168 164 175 159 180 177 160 170 169\n",
      " $ Weight: int  80 52 55 70 49 84 85 54 53 70\n"
     ]
    }
   ],
   "source": [
    "#데이터 구조 확인\n",
    "str(ex)"
   ]
  },
  {
   "cell_type": "code",
   "execution_count": 11,
   "metadata": {
    "vscode": {
     "languageId": "r"
    }
   },
   "outputs": [
    {
     "data": {
      "text/html": [
       "<style>\n",
       ".list-inline {list-style: none; margin:0; padding: 0}\n",
       ".list-inline>li {display: inline-block}\n",
       ".list-inline>li:not(:last-child)::after {content: \"\\00b7\"; padding: 0 .5ex}\n",
       "</style>\n",
       "<ol class=list-inline><li>'ID'</li><li>'Age'</li><li>'Sex'</li><li>'Math'</li><li>'Eng'</li><li>'Height'</li><li>'Weight'</li></ol>\n"
      ],
      "text/latex": [
       "\\begin{enumerate*}\n",
       "\\item 'ID'\n",
       "\\item 'Age'\n",
       "\\item 'Sex'\n",
       "\\item 'Math'\n",
       "\\item 'Eng'\n",
       "\\item 'Height'\n",
       "\\item 'Weight'\n",
       "\\end{enumerate*}\n"
      ],
      "text/markdown": [
       "1. 'ID'\n",
       "2. 'Age'\n",
       "3. 'Sex'\n",
       "4. 'Math'\n",
       "5. 'Eng'\n",
       "6. 'Height'\n",
       "7. 'Weight'\n",
       "\n",
       "\n"
      ],
      "text/plain": [
       "[1] \"ID\"     \"Age\"    \"Sex\"    \"Math\"   \"Eng\"    \"Height\" \"Weight\""
      ]
     },
     "metadata": {},
     "output_type": "display_data"
    }
   ],
   "source": [
    "#변수명 확인\n",
    "names(ex)"
   ]
  },
  {
   "cell_type": "code",
   "execution_count": 12,
   "metadata": {
    "vscode": {
     "languageId": "r"
    }
   },
   "outputs": [
    {
     "data": {
      "text/html": [
       "<style>\n",
       ".list-inline {list-style: none; margin:0; padding: 0}\n",
       ".list-inline>li {display: inline-block}\n",
       ".list-inline>li:not(:last-child)::after {content: \"\\00b7\"; padding: 0 .5ex}\n",
       "</style>\n",
       "<ol class=list-inline><li>10</li><li>7</li></ol>\n"
      ],
      "text/latex": [
       "\\begin{enumerate*}\n",
       "\\item 10\n",
       "\\item 7\n",
       "\\end{enumerate*}\n"
      ],
      "text/markdown": [
       "1. 10\n",
       "2. 7\n",
       "\n",
       "\n"
      ],
      "text/plain": [
       "[1] 10  7"
      ]
     },
     "metadata": {},
     "output_type": "display_data"
    }
   ],
   "source": [
    "#갯수와 변수의 수 확인\n",
    "dim(ex)"
   ]
  },
  {
   "cell_type": "code",
   "execution_count": 13,
   "metadata": {
    "vscode": {
     "languageId": "r"
    }
   },
   "outputs": [
    {
     "data": {
      "text/html": [
       "'integer'"
      ],
      "text/latex": [
       "'integer'"
      ],
      "text/markdown": [
       "'integer'"
      ],
      "text/plain": [
       "[1] \"integer\""
      ]
     },
     "metadata": {},
     "output_type": "display_data"
    },
    {
     "data": {
      "text/html": [
       "'integer'"
      ],
      "text/latex": [
       "'integer'"
      ],
      "text/markdown": [
       "'integer'"
      ],
      "text/plain": [
       "[1] \"integer\""
      ]
     },
     "metadata": {},
     "output_type": "display_data"
    },
    {
     "data": {
      "text/html": [
       "'double'"
      ],
      "text/latex": [
       "'double'"
      ],
      "text/markdown": [
       "'double'"
      ],
      "text/plain": [
       "[1] \"double\""
      ]
     },
     "metadata": {},
     "output_type": "display_data"
    }
   ],
   "source": [
    "#변수의 유형: Logical: 참 또는 거짓, Int: 정수, Double: 실수, Character: 문자열\n",
    "typeof(ex$Weight)\n",
    "typeof(ex$Eng)\n",
    "\n",
    "ex$Weight <- as.numeric(ex$Weight)\n",
    "typeof(ex$Weight)"
   ]
  },
  {
   "cell_type": "code",
   "execution_count": 14,
   "metadata": {
    "vscode": {
     "languageId": "r"
    }
   },
   "outputs": [
    {
     "data": {
      "text/html": [
       "<table class=\"dataframe\">\n",
       "<caption>A data.frame: 6 × 7</caption>\n",
       "<thead>\n",
       "\t<tr><th></th><th scope=col>ID</th><th scope=col>Age</th><th scope=col>Sex</th><th scope=col>Math</th><th scope=col>Eng</th><th scope=col>Height</th><th scope=col>Weight</th></tr>\n",
       "\t<tr><th></th><th scope=col>&lt;int&gt;</th><th scope=col>&lt;int&gt;</th><th scope=col>&lt;chr&gt;</th><th scope=col>&lt;int&gt;</th><th scope=col>&lt;int&gt;</th><th scope=col>&lt;int&gt;</th><th scope=col>&lt;dbl&gt;</th></tr>\n",
       "</thead>\n",
       "<tbody>\n",
       "\t<tr><th scope=row>1</th><td>1</td><td>20</td><td>?</td><td>89</td><td>95</td><td>175</td><td>80</td></tr>\n",
       "\t<tr><th scope=row>2</th><td>2</td><td>18</td><td>?</td><td>90</td><td>75</td><td>168</td><td>52</td></tr>\n",
       "\t<tr><th scope=row>3</th><td>3</td><td>20</td><td>?</td><td>95</td><td>90</td><td>164</td><td>55</td></tr>\n",
       "\t<tr><th scope=row>4</th><td>4</td><td>19</td><td>?</td><td>90</td><td>95</td><td>175</td><td>70</td></tr>\n",
       "\t<tr><th scope=row>5</th><td>5</td><td>20</td><td>?</td><td>85</td><td>90</td><td>159</td><td>49</td></tr>\n",
       "\t<tr><th scope=row>6</th><td>6</td><td>18</td><td>?</td><td>88</td><td>87</td><td>180</td><td>84</td></tr>\n",
       "</tbody>\n",
       "</table>\n"
      ],
      "text/latex": [
       "A data.frame: 6 × 7\n",
       "\\begin{tabular}{r|lllllll}\n",
       "  & ID & Age & Sex & Math & Eng & Height & Weight\\\\\n",
       "  & <int> & <int> & <chr> & <int> & <int> & <int> & <dbl>\\\\\n",
       "\\hline\n",
       "\t1 & 1 & 20 & ? & 89 & 95 & 175 & 80\\\\\n",
       "\t2 & 2 & 18 & ? & 90 & 75 & 168 & 52\\\\\n",
       "\t3 & 3 & 20 & ? & 95 & 90 & 164 & 55\\\\\n",
       "\t4 & 4 & 19 & ? & 90 & 95 & 175 & 70\\\\\n",
       "\t5 & 5 & 20 & ? & 85 & 90 & 159 & 49\\\\\n",
       "\t6 & 6 & 18 & ? & 88 & 87 & 180 & 84\\\\\n",
       "\\end{tabular}\n"
      ],
      "text/markdown": [
       "\n",
       "A data.frame: 6 × 7\n",
       "\n",
       "| <!--/--> | ID &lt;int&gt; | Age &lt;int&gt; | Sex &lt;chr&gt; | Math &lt;int&gt; | Eng &lt;int&gt; | Height &lt;int&gt; | Weight &lt;dbl&gt; |\n",
       "|---|---|---|---|---|---|---|---|\n",
       "| 1 | 1 | 20 | ? | 89 | 95 | 175 | 80 |\n",
       "| 2 | 2 | 18 | ? | 90 | 75 | 168 | 52 |\n",
       "| 3 | 3 | 20 | ? | 95 | 90 | 164 | 55 |\n",
       "| 4 | 4 | 19 | ? | 90 | 95 | 175 | 70 |\n",
       "| 5 | 5 | 20 | ? | 85 | 90 | 159 | 49 |\n",
       "| 6 | 6 | 18 | ? | 88 | 87 | 180 | 84 |\n",
       "\n"
      ],
      "text/plain": [
       "  ID Age Sex Math Eng Height Weight\n",
       "1 1  20  ?   89   95  175    80    \n",
       "2 2  18  ?   90   75  168    52    \n",
       "3 3  20  ?   95   90  164    55    \n",
       "4 4  19  ?   90   95  175    70    \n",
       "5 5  20  ?   85   90  159    49    \n",
       "6 6  18  ?   88   87  180    84    "
      ]
     },
     "metadata": {},
     "output_type": "display_data"
    }
   ],
   "source": [
    "#처음 6행의 값 확인\n",
    "head(ex)"
   ]
  },
  {
   "cell_type": "code",
   "execution_count": 17,
   "metadata": {
    "vscode": {
     "languageId": "r"
    }
   },
   "outputs": [
    {
     "name": "stdout",
     "output_type": "stream",
     "text": [
      "   ID Age Sex Math Eng\n",
      "1   1  20   ?   89  95\n",
      "2   2  18   ?   90  75\n",
      "3   3  20   ?   95  90\n",
      "4   4  19   ?   90  95\n",
      "5   5  20   ?   85  90\n",
      "6   6  18   ?   88  87\n",
      "7   7  21   ?   96  94\n",
      "8   8  19   ?   88  92\n",
      "9   9  20   ?   70  85\n",
      "10 10  19   ?   93  90\n"
     ]
    }
   ],
   "source": [
    "# 데이터 프린트\n",
    "print(ex[, c(1:5)])"
   ]
  },
  {
   "cell_type": "code",
   "execution_count": 18,
   "metadata": {
    "vscode": {
     "languageId": "r"
    }
   },
   "outputs": [
    {
     "name": "stdout",
     "output_type": "stream",
     "text": [
      "  ID Age Sex Math Eng Height Weight\n",
      "1  1  20   ?   89  95    175     80\n",
      "2  2  18   ?   90  75    168     52\n",
      "3  3  20   ?   95  90    164     55\n",
      "4  4  19   ?   90  95    175     70\n",
      "5  5  20   ?   85  90    159     49\n"
     ]
    }
   ],
   "source": [
    "print(ex[c(1:5),])"
   ]
  }
 ],
 "metadata": {
  "kernelspec": {
   "display_name": "R",
   "language": "R",
   "name": "ir"
  },
  "language_info": {
   "codemirror_mode": "r",
   "file_extension": ".r",
   "mimetype": "text/x-r-source",
   "name": "R",
   "pygments_lexer": "r",
   "version": "4.1.2"
  },
  "orig_nbformat": 4
 },
 "nbformat": 4,
 "nbformat_minor": 2
}
