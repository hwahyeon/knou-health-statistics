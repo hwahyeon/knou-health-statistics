{
 "cells": [
  {
   "cell_type": "markdown",
   "metadata": {},
   "source": [
    "## R 실습 3강: 양적자료의 요약"
   ]
  },
  {
   "cell_type": "markdown",
   "metadata": {},
   "source": [
    "### 1) R 내장 데이터: trees"
   ]
  },
  {
   "cell_type": "code",
   "execution_count": 1,
   "metadata": {
    "vscode": {
     "languageId": "r"
    }
   },
   "outputs": [
    {
     "data": {
      "text/html": [
       "<table class=\"dataframe\">\n",
       "<caption>A data.frame: 31 × 3</caption>\n",
       "<thead>\n",
       "\t<tr><th scope=col>Girth</th><th scope=col>Height</th><th scope=col>Volume</th></tr>\n",
       "\t<tr><th scope=col>&lt;dbl&gt;</th><th scope=col>&lt;dbl&gt;</th><th scope=col>&lt;dbl&gt;</th></tr>\n",
       "</thead>\n",
       "<tbody>\n",
       "\t<tr><td> 8.3</td><td>70</td><td>10.3</td></tr>\n",
       "\t<tr><td> 8.6</td><td>65</td><td>10.3</td></tr>\n",
       "\t<tr><td> 8.8</td><td>63</td><td>10.2</td></tr>\n",
       "\t<tr><td>10.5</td><td>72</td><td>16.4</td></tr>\n",
       "\t<tr><td>10.7</td><td>81</td><td>18.8</td></tr>\n",
       "\t<tr><td>10.8</td><td>83</td><td>19.7</td></tr>\n",
       "\t<tr><td>11.0</td><td>66</td><td>15.6</td></tr>\n",
       "\t<tr><td>11.0</td><td>75</td><td>18.2</td></tr>\n",
       "\t<tr><td>11.1</td><td>80</td><td>22.6</td></tr>\n",
       "\t<tr><td>11.2</td><td>75</td><td>19.9</td></tr>\n",
       "\t<tr><td>11.3</td><td>79</td><td>24.2</td></tr>\n",
       "\t<tr><td>11.4</td><td>76</td><td>21.0</td></tr>\n",
       "\t<tr><td>11.4</td><td>76</td><td>21.4</td></tr>\n",
       "\t<tr><td>11.7</td><td>69</td><td>21.3</td></tr>\n",
       "\t<tr><td>12.0</td><td>75</td><td>19.1</td></tr>\n",
       "\t<tr><td>12.9</td><td>74</td><td>22.2</td></tr>\n",
       "\t<tr><td>12.9</td><td>85</td><td>33.8</td></tr>\n",
       "\t<tr><td>13.3</td><td>86</td><td>27.4</td></tr>\n",
       "\t<tr><td>13.7</td><td>71</td><td>25.7</td></tr>\n",
       "\t<tr><td>13.8</td><td>64</td><td>24.9</td></tr>\n",
       "\t<tr><td>14.0</td><td>78</td><td>34.5</td></tr>\n",
       "\t<tr><td>14.2</td><td>80</td><td>31.7</td></tr>\n",
       "\t<tr><td>14.5</td><td>74</td><td>36.3</td></tr>\n",
       "\t<tr><td>16.0</td><td>72</td><td>38.3</td></tr>\n",
       "\t<tr><td>16.3</td><td>77</td><td>42.6</td></tr>\n",
       "\t<tr><td>17.3</td><td>81</td><td>55.4</td></tr>\n",
       "\t<tr><td>17.5</td><td>82</td><td>55.7</td></tr>\n",
       "\t<tr><td>17.9</td><td>80</td><td>58.3</td></tr>\n",
       "\t<tr><td>18.0</td><td>80</td><td>51.5</td></tr>\n",
       "\t<tr><td>18.0</td><td>80</td><td>51.0</td></tr>\n",
       "\t<tr><td>20.6</td><td>87</td><td>77.0</td></tr>\n",
       "</tbody>\n",
       "</table>\n"
      ],
      "text/latex": [
       "A data.frame: 31 × 3\n",
       "\\begin{tabular}{lll}\n",
       " Girth & Height & Volume\\\\\n",
       " <dbl> & <dbl> & <dbl>\\\\\n",
       "\\hline\n",
       "\t  8.3 & 70 & 10.3\\\\\n",
       "\t  8.6 & 65 & 10.3\\\\\n",
       "\t  8.8 & 63 & 10.2\\\\\n",
       "\t 10.5 & 72 & 16.4\\\\\n",
       "\t 10.7 & 81 & 18.8\\\\\n",
       "\t 10.8 & 83 & 19.7\\\\\n",
       "\t 11.0 & 66 & 15.6\\\\\n",
       "\t 11.0 & 75 & 18.2\\\\\n",
       "\t 11.1 & 80 & 22.6\\\\\n",
       "\t 11.2 & 75 & 19.9\\\\\n",
       "\t 11.3 & 79 & 24.2\\\\\n",
       "\t 11.4 & 76 & 21.0\\\\\n",
       "\t 11.4 & 76 & 21.4\\\\\n",
       "\t 11.7 & 69 & 21.3\\\\\n",
       "\t 12.0 & 75 & 19.1\\\\\n",
       "\t 12.9 & 74 & 22.2\\\\\n",
       "\t 12.9 & 85 & 33.8\\\\\n",
       "\t 13.3 & 86 & 27.4\\\\\n",
       "\t 13.7 & 71 & 25.7\\\\\n",
       "\t 13.8 & 64 & 24.9\\\\\n",
       "\t 14.0 & 78 & 34.5\\\\\n",
       "\t 14.2 & 80 & 31.7\\\\\n",
       "\t 14.5 & 74 & 36.3\\\\\n",
       "\t 16.0 & 72 & 38.3\\\\\n",
       "\t 16.3 & 77 & 42.6\\\\\n",
       "\t 17.3 & 81 & 55.4\\\\\n",
       "\t 17.5 & 82 & 55.7\\\\\n",
       "\t 17.9 & 80 & 58.3\\\\\n",
       "\t 18.0 & 80 & 51.5\\\\\n",
       "\t 18.0 & 80 & 51.0\\\\\n",
       "\t 20.6 & 87 & 77.0\\\\\n",
       "\\end{tabular}\n"
      ],
      "text/markdown": [
       "\n",
       "A data.frame: 31 × 3\n",
       "\n",
       "| Girth &lt;dbl&gt; | Height &lt;dbl&gt; | Volume &lt;dbl&gt; |\n",
       "|---|---|---|\n",
       "|  8.3 | 70 | 10.3 |\n",
       "|  8.6 | 65 | 10.3 |\n",
       "|  8.8 | 63 | 10.2 |\n",
       "| 10.5 | 72 | 16.4 |\n",
       "| 10.7 | 81 | 18.8 |\n",
       "| 10.8 | 83 | 19.7 |\n",
       "| 11.0 | 66 | 15.6 |\n",
       "| 11.0 | 75 | 18.2 |\n",
       "| 11.1 | 80 | 22.6 |\n",
       "| 11.2 | 75 | 19.9 |\n",
       "| 11.3 | 79 | 24.2 |\n",
       "| 11.4 | 76 | 21.0 |\n",
       "| 11.4 | 76 | 21.4 |\n",
       "| 11.7 | 69 | 21.3 |\n",
       "| 12.0 | 75 | 19.1 |\n",
       "| 12.9 | 74 | 22.2 |\n",
       "| 12.9 | 85 | 33.8 |\n",
       "| 13.3 | 86 | 27.4 |\n",
       "| 13.7 | 71 | 25.7 |\n",
       "| 13.8 | 64 | 24.9 |\n",
       "| 14.0 | 78 | 34.5 |\n",
       "| 14.2 | 80 | 31.7 |\n",
       "| 14.5 | 74 | 36.3 |\n",
       "| 16.0 | 72 | 38.3 |\n",
       "| 16.3 | 77 | 42.6 |\n",
       "| 17.3 | 81 | 55.4 |\n",
       "| 17.5 | 82 | 55.7 |\n",
       "| 17.9 | 80 | 58.3 |\n",
       "| 18.0 | 80 | 51.5 |\n",
       "| 18.0 | 80 | 51.0 |\n",
       "| 20.6 | 87 | 77.0 |\n",
       "\n"
      ],
      "text/plain": [
       "   Girth Height Volume\n",
       "1   8.3  70     10.3  \n",
       "2   8.6  65     10.3  \n",
       "3   8.8  63     10.2  \n",
       "4  10.5  72     16.4  \n",
       "5  10.7  81     18.8  \n",
       "6  10.8  83     19.7  \n",
       "7  11.0  66     15.6  \n",
       "8  11.0  75     18.2  \n",
       "9  11.1  80     22.6  \n",
       "10 11.2  75     19.9  \n",
       "11 11.3  79     24.2  \n",
       "12 11.4  76     21.0  \n",
       "13 11.4  76     21.4  \n",
       "14 11.7  69     21.3  \n",
       "15 12.0  75     19.1  \n",
       "16 12.9  74     22.2  \n",
       "17 12.9  85     33.8  \n",
       "18 13.3  86     27.4  \n",
       "19 13.7  71     25.7  \n",
       "20 13.8  64     24.9  \n",
       "21 14.0  78     34.5  \n",
       "22 14.2  80     31.7  \n",
       "23 14.5  74     36.3  \n",
       "24 16.0  72     38.3  \n",
       "25 16.3  77     42.6  \n",
       "26 17.3  81     55.4  \n",
       "27 17.5  82     55.7  \n",
       "28 17.9  80     58.3  \n",
       "29 18.0  80     51.5  \n",
       "30 18.0  80     51.0  \n",
       "31 20.6  87     77.0  "
      ]
     },
     "metadata": {},
     "output_type": "display_data"
    }
   ],
   "source": [
    "trees"
   ]
  },
  {
   "cell_type": "code",
   "execution_count": 2,
   "metadata": {
    "vscode": {
     "languageId": "r"
    }
   },
   "outputs": [
    {
     "name": "stdout",
     "output_type": "stream",
     "text": [
      "trees                 package:datasets                 R Documentation\n",
      "\n",
      "_\bD_\bi_\ba_\bm_\be_\bt_\be_\br, _\bH_\be_\bi_\bg_\bh_\bt _\ba_\bn_\bd _\bV_\bo_\bl_\bu_\bm_\be _\bf_\bo_\br _\bB_\bl_\ba_\bc_\bk _\bC_\bh_\be_\br_\br_\by _\bT_\br_\be_\be_\bs\n",
      "\n",
      "_\bD_\be_\bs_\bc_\br_\bi_\bp_\bt_\bi_\bo_\bn:\n",
      "\n",
      "     This data set provides measurements of the diameter, height and\n",
      "     volume of timber in 31 felled black cherry trees.  Note that the\n",
      "     diameter (in inches) is erroneously labelled Girth in the data. It\n",
      "     is measured at 4 ft 6 in above the ground.\n",
      "\n",
      "_\bU_\bs_\ba_\bg_\be:\n",
      "\n",
      "     trees\n",
      "     \n",
      "_\bF_\bo_\br_\bm_\ba_\bt:\n",
      "\n",
      "     A data frame with 31 observations on 3 variables.\n",
      "\n",
      "       '[,1]'  'Girth'   numeric  Tree diameter (rather than girth, actually) in inches \n",
      "       '[,2]'  'Height'  numeric  Height in ft                                          \n",
      "       '[,3]'  'Volume'  numeric  Volume of timber in cubic ft                          \n",
      "      \n",
      "_\bS_\bo_\bu_\br_\bc_\be:\n",
      "\n",
      "     Ryan, T. A., Joiner, B. L. and Ryan, B. F. (1976) _The Minitab\n",
      "     Student Handbook_.  Duxbury Press.\n",
      "\n",
      "_\bR_\be_\bf_\be_\br_\be_\bn_\bc_\be_\bs:\n",
      "\n",
      "     Atkinson, A. C. (1985) _Plots, Transformations and Regression_.\n",
      "     Oxford University Press.\n",
      "\n",
      "_\bE_\bx_\ba_\bm_\bp_\bl_\be_\bs:\n",
      "\n",
      "     require(stats); require(graphics)\n",
      "     pairs(trees, panel = panel.smooth, main = \"trees data\")\n",
      "     plot(Volume ~ Girth, data = trees, log = \"xy\")\n",
      "     coplot(log(Volume) ~ log(Girth) | Height, data = trees,\n",
      "            panel = panel.smooth)\n",
      "     summary(fm1 <- lm(log(Volume) ~ log(Girth), data = trees))\n",
      "     summary(fm2 <- update(fm1, ~ . + log(Height), data = trees))\n",
      "     step(fm2)\n",
      "     ## i.e., Volume ~= c * Height * Girth^2  seems reasonable\n",
      "     "
     ]
    }
   ],
   "source": [
    "?trees"
   ]
  },
  {
   "cell_type": "code",
   "execution_count": 3,
   "metadata": {
    "vscode": {
     "languageId": "r"
    }
   },
   "outputs": [
    {
     "name": "stdout",
     "output_type": "stream",
     "text": [
      "'data.frame':\t31 obs. of  3 variables:\n",
      " $ Girth : num  8.3 8.6 8.8 10.5 10.7 10.8 11 11 11.1 11.2 ...\n",
      " $ Height: num  70 65 63 72 81 83 66 75 80 75 ...\n",
      " $ Volume: num  10.3 10.3 10.2 16.4 18.8 19.7 15.6 18.2 22.6 19.9 ...\n"
     ]
    }
   ],
   "source": [
    "#데이터 구조 확인\n",
    "str(trees)"
   ]
  },
  {
   "cell_type": "code",
   "execution_count": 4,
   "metadata": {
    "vscode": {
     "languageId": "r"
    }
   },
   "outputs": [
    {
     "data": {
      "text/html": [
       "<style>\n",
       ".list-inline {list-style: none; margin:0; padding: 0}\n",
       ".list-inline>li {display: inline-block}\n",
       ".list-inline>li:not(:last-child)::after {content: \"\\00b7\"; padding: 0 .5ex}\n",
       "</style>\n",
       "<ol class=list-inline><li>'Girth'</li><li>'Height'</li><li>'Volume'</li></ol>\n"
      ],
      "text/latex": [
       "\\begin{enumerate*}\n",
       "\\item 'Girth'\n",
       "\\item 'Height'\n",
       "\\item 'Volume'\n",
       "\\end{enumerate*}\n"
      ],
      "text/markdown": [
       "1. 'Girth'\n",
       "2. 'Height'\n",
       "3. 'Volume'\n",
       "\n",
       "\n"
      ],
      "text/plain": [
       "[1] \"Girth\"  \"Height\" \"Volume\""
      ]
     },
     "metadata": {},
     "output_type": "display_data"
    }
   ],
   "source": [
    "#변수명 확인\n",
    "names(trees)"
   ]
  },
  {
   "cell_type": "code",
   "execution_count": 5,
   "metadata": {
    "vscode": {
     "languageId": "r"
    }
   },
   "outputs": [
    {
     "data": {
      "text/html": [
       "<style>\n",
       ".list-inline {list-style: none; margin:0; padding: 0}\n",
       ".list-inline>li {display: inline-block}\n",
       ".list-inline>li:not(:last-child)::after {content: \"\\00b7\"; padding: 0 .5ex}\n",
       "</style>\n",
       "<ol class=list-inline><li>31</li><li>3</li></ol>\n"
      ],
      "text/latex": [
       "\\begin{enumerate*}\n",
       "\\item 31\n",
       "\\item 3\n",
       "\\end{enumerate*}\n"
      ],
      "text/markdown": [
       "1. 31\n",
       "2. 3\n",
       "\n",
       "\n"
      ],
      "text/plain": [
       "[1] 31  3"
      ]
     },
     "metadata": {},
     "output_type": "display_data"
    }
   ],
   "source": [
    "#갯수와 변수의 수 확인\n",
    "dim(trees)"
   ]
  },
  {
   "cell_type": "code",
   "execution_count": 6,
   "metadata": {
    "vscode": {
     "languageId": "r"
    }
   },
   "outputs": [
    {
     "data": {
      "text/html": [
       "<table class=\"dataframe\">\n",
       "<caption>A data.frame: 6 × 3</caption>\n",
       "<thead>\n",
       "\t<tr><th></th><th scope=col>Girth</th><th scope=col>Height</th><th scope=col>Volume</th></tr>\n",
       "\t<tr><th></th><th scope=col>&lt;dbl&gt;</th><th scope=col>&lt;dbl&gt;</th><th scope=col>&lt;dbl&gt;</th></tr>\n",
       "</thead>\n",
       "<tbody>\n",
       "\t<tr><th scope=row>1</th><td> 8.3</td><td>70</td><td>10.3</td></tr>\n",
       "\t<tr><th scope=row>2</th><td> 8.6</td><td>65</td><td>10.3</td></tr>\n",
       "\t<tr><th scope=row>3</th><td> 8.8</td><td>63</td><td>10.2</td></tr>\n",
       "\t<tr><th scope=row>4</th><td>10.5</td><td>72</td><td>16.4</td></tr>\n",
       "\t<tr><th scope=row>5</th><td>10.7</td><td>81</td><td>18.8</td></tr>\n",
       "\t<tr><th scope=row>6</th><td>10.8</td><td>83</td><td>19.7</td></tr>\n",
       "</tbody>\n",
       "</table>\n"
      ],
      "text/latex": [
       "A data.frame: 6 × 3\n",
       "\\begin{tabular}{r|lll}\n",
       "  & Girth & Height & Volume\\\\\n",
       "  & <dbl> & <dbl> & <dbl>\\\\\n",
       "\\hline\n",
       "\t1 &  8.3 & 70 & 10.3\\\\\n",
       "\t2 &  8.6 & 65 & 10.3\\\\\n",
       "\t3 &  8.8 & 63 & 10.2\\\\\n",
       "\t4 & 10.5 & 72 & 16.4\\\\\n",
       "\t5 & 10.7 & 81 & 18.8\\\\\n",
       "\t6 & 10.8 & 83 & 19.7\\\\\n",
       "\\end{tabular}\n"
      ],
      "text/markdown": [
       "\n",
       "A data.frame: 6 × 3\n",
       "\n",
       "| <!--/--> | Girth &lt;dbl&gt; | Height &lt;dbl&gt; | Volume &lt;dbl&gt; |\n",
       "|---|---|---|---|\n",
       "| 1 |  8.3 | 70 | 10.3 |\n",
       "| 2 |  8.6 | 65 | 10.3 |\n",
       "| 3 |  8.8 | 63 | 10.2 |\n",
       "| 4 | 10.5 | 72 | 16.4 |\n",
       "| 5 | 10.7 | 81 | 18.8 |\n",
       "| 6 | 10.8 | 83 | 19.7 |\n",
       "\n"
      ],
      "text/plain": [
       "  Girth Height Volume\n",
       "1  8.3  70     10.3  \n",
       "2  8.6  65     10.3  \n",
       "3  8.8  63     10.2  \n",
       "4 10.5  72     16.4  \n",
       "5 10.7  81     18.8  \n",
       "6 10.8  83     19.7  "
      ]
     },
     "metadata": {},
     "output_type": "display_data"
    }
   ],
   "source": [
    "#처음 6행의 값 확인\n",
    "head(trees)"
   ]
  },
  {
   "cell_type": "markdown",
   "metadata": {},
   "source": [
    "### 2) 기술통계"
   ]
  },
  {
   "cell_type": "code",
   "execution_count": 7,
   "metadata": {
    "vscode": {
     "languageId": "r"
    }
   },
   "outputs": [
    {
     "data": {
      "text/plain": [
       "     Girth           Height       Volume     \n",
       " Min.   : 8.30   Min.   :63   Min.   :10.20  \n",
       " 1st Qu.:11.05   1st Qu.:72   1st Qu.:19.40  \n",
       " Median :12.90   Median :76   Median :24.20  \n",
       " Mean   :13.25   Mean   :76   Mean   :30.17  \n",
       " 3rd Qu.:15.25   3rd Qu.:80   3rd Qu.:37.30  \n",
       " Max.   :20.60   Max.   :87   Max.   :77.00  "
      ]
     },
     "metadata": {},
     "output_type": "display_data"
    }
   ],
   "source": [
    "# 최소값, 제1사분위수, 중위수, 산술평균, 제3사분위수, 최대값\n",
    "summary(trees)"
   ]
  },
  {
   "cell_type": "code",
   "execution_count": 8,
   "metadata": {
    "vscode": {
     "languageId": "r"
    }
   },
   "outputs": [
    {
     "data": {
      "text/plain": [
       "   Min. 1st Qu.  Median    Mean 3rd Qu.    Max. \n",
       "   8.30   11.05   12.90   13.25   15.25   20.60 "
      ]
     },
     "metadata": {},
     "output_type": "display_data"
    }
   ],
   "source": [
    "# 특정 변수 지정\n",
    "summary(trees$Girth)"
   ]
  },
  {
   "cell_type": "code",
   "execution_count": 9,
   "metadata": {
    "vscode": {
     "languageId": "r"
    }
   },
   "outputs": [
    {
     "data": {
      "text/html": [
       "<strong>25%:</strong> 11.05"
      ],
      "text/latex": [
       "\\textbf{25\\textbackslash{}\\%:} 11.05"
      ],
      "text/markdown": [
       "**25%:** 11.05"
      ],
      "text/plain": [
       "  25% \n",
       "11.05 "
      ]
     },
     "metadata": {},
     "output_type": "display_data"
    },
    {
     "data": {
      "text/html": [
       "<strong>90%:</strong> 17.9"
      ],
      "text/latex": [
       "\\textbf{90\\textbackslash{}\\%:} 17.9"
      ],
      "text/markdown": [
       "**90%:** 17.9"
      ],
      "text/plain": [
       " 90% \n",
       "17.9 "
      ]
     },
     "metadata": {},
     "output_type": "display_data"
    },
    {
     "data": {
      "text/html": [
       "<strong>95%:</strong> 18"
      ],
      "text/latex": [
       "\\textbf{95\\textbackslash{}\\%:} 18"
      ],
      "text/markdown": [
       "**95%:** 18"
      ],
      "text/plain": [
       "95% \n",
       " 18 "
      ]
     },
     "metadata": {},
     "output_type": "display_data"
    }
   ],
   "source": [
    "# 분위수 구하기\n",
    "quantile(trees$Girth, 0.25)\n",
    "quantile(trees$Girth, 0.9)\n",
    "quantile(trees$Girth, 0.95)"
   ]
  },
  {
   "cell_type": "code",
   "execution_count": 10,
   "metadata": {
    "vscode": {
     "languageId": "r"
    }
   },
   "outputs": [
    {
     "data": {
      "text/html": [
       "9.84791397849462"
      ],
      "text/latex": [
       "9.84791397849462"
      ],
      "text/markdown": [
       "9.84791397849462"
      ],
      "text/plain": [
       "[1] 9.847914"
      ]
     },
     "metadata": {},
     "output_type": "display_data"
    },
    {
     "data": {
      "text/html": [
       "3.13813861683875"
      ],
      "text/latex": [
       "3.13813861683875"
      ],
      "text/markdown": [
       "3.13813861683875"
      ],
      "text/plain": [
       "[1] 3.138139"
      ]
     },
     "metadata": {},
     "output_type": "display_data"
    }
   ],
   "source": [
    "# 분산, 표준편차\n",
    "var(trees$Girth)\n",
    "sd(trees$Girth)"
   ]
  },
  {
   "cell_type": "code",
   "execution_count": 11,
   "metadata": {
    "vscode": {
     "languageId": "r"
    }
   },
   "outputs": [
    {
     "data": {
      "text/html": [
       "4.2"
      ],
      "text/latex": [
       "4.2"
      ],
      "text/markdown": [
       "4.2"
      ],
      "text/plain": [
       "[1] 4.2"
      ]
     },
     "metadata": {},
     "output_type": "display_data"
    }
   ],
   "source": [
    "# 사분위수 범위\n",
    "IQR(trees$Girth)"
   ]
  },
  {
   "cell_type": "code",
   "execution_count": 12,
   "metadata": {
    "vscode": {
     "languageId": "r"
    }
   },
   "outputs": [
    {
     "data": {
      "image/png": "[encoded data removed]",
      "text/plain": [
       "Plot with title \"Histogram of trees$Girth\""
      ]
     },
     "metadata": {
      "image/png": {
       "height": 420,
       "width": 420
      }
     },
     "output_type": "display_data"
    }
   ],
   "source": [
    "# 히스토그램\n",
    "hist(trees$Girth)"
   ]
  },
  {
   "cell_type": "code",
   "execution_count": 13,
   "metadata": {
    "vscode": {
     "languageId": "r"
    }
   },
   "outputs": [
    {
     "data": {
      "image/png": "[encoded data removed]",
      "text/plain": [
       "plot without title"
      ]
     },
     "metadata": {
      "image/png": {
       "height": 420,
       "width": 420
      }
     },
     "output_type": "display_data"
    }
   ],
   "source": [
    "# 상자그림\n",
    "boxplot(trees)"
   ]
  },
  {
   "cell_type": "code",
   "execution_count": 14,
   "metadata": {
    "vscode": {
     "languageId": "r"
    }
   },
   "outputs": [
    {
     "data": {
      "image/png": "[encoded data removed]",
      "text/plain": [
       "plot without title"
      ]
     },
     "metadata": {
      "image/png": {
       "height": 420,
       "width": 420
      }
     },
     "output_type": "display_data"
    }
   ],
   "source": [
    "# 산점도 행렬\n",
    "pairs(~ Girth + Height + Volume, data=trees)"
   ]
  }
 ],
 "metadata": {
  "kernelspec": {
   "display_name": "R",
   "language": "R",
   "name": "ir"
  },
  "language_info": {
   "codemirror_mode": "r",
   "file_extension": ".r",
   "mimetype": "text/x-r-source",
   "name": "R",
   "pygments_lexer": "r",
   "version": "4.1.2"
  },
  "orig_nbformat": 4
 },
 "nbformat": 4,
 "nbformat_minor": 2
}
