{
 "cells": [
  {
   "cell_type": "markdown",
   "metadata": {},
   "source": [
    "## R 실습 2강: 표와 그래프의 작성"
   ]
  },
  {
   "cell_type": "markdown",
   "metadata": {},
   "source": [
    "### 1) 질적 자료의 정리: 표, 그림"
   ]
  },
  {
   "cell_type": "code",
   "execution_count": 1,
   "metadata": {
    "vscode": {
     "languageId": "r"
    }
   },
   "outputs": [],
   "source": [
    "#데이터 불러들이기\n",
    "movie=read.csv('datasets/movie_choice.csv')"
   ]
  },
  {
   "cell_type": "code",
   "execution_count": 2,
   "metadata": {
    "vscode": {
     "languageId": "r"
    }
   },
   "outputs": [
    {
     "name": "stdout",
     "output_type": "stream",
     "text": [
      "'data.frame':\t34 obs. of  5 variables:\n",
      " $ grade       : int  2 1 2 2 3 4 1 2 3 2 ...\n",
      " $ sex         : int  2 1 1 2 1 2 2 2 1 1 ...\n",
      " $ group       : int  5 2 3 2 4 5 3 4 1 2 ...\n",
      " $ bloodtype   : int  1 2 4 5 3 2 3 4 4 2 ...\n",
      " $ choice_movie: int  3 3 4 1 2 1 1 2 3 5 ...\n"
     ]
    }
   ],
   "source": [
    "#데이터 구조 확인\n",
    "str(movie)"
   ]
  },
  {
   "cell_type": "code",
   "execution_count": 3,
   "metadata": {
    "vscode": {
     "languageId": "r"
    }
   },
   "outputs": [
    {
     "data": {
      "text/html": [
       "<style>\n",
       ".list-inline {list-style: none; margin:0; padding: 0}\n",
       ".list-inline>li {display: inline-block}\n",
       ".list-inline>li:not(:last-child)::after {content: \"\\00b7\"; padding: 0 .5ex}\n",
       "</style>\n",
       "<ol class=list-inline><li>'grade'</li><li>'sex'</li><li>'group'</li><li>'bloodtype'</li><li>'choice_movie'</li></ol>\n"
      ],
      "text/latex": [
       "\\begin{enumerate*}\n",
       "\\item 'grade'\n",
       "\\item 'sex'\n",
       "\\item 'group'\n",
       "\\item 'bloodtype'\n",
       "\\item 'choice\\_movie'\n",
       "\\end{enumerate*}\n"
      ],
      "text/markdown": [
       "1. 'grade'\n",
       "2. 'sex'\n",
       "3. 'group'\n",
       "4. 'bloodtype'\n",
       "5. 'choice_movie'\n",
       "\n",
       "\n"
      ],
      "text/plain": [
       "[1] \"grade\"        \"sex\"          \"group\"        \"bloodtype\"    \"choice_movie\""
      ]
     },
     "metadata": {},
     "output_type": "display_data"
    }
   ],
   "source": [
    "#변수명 확인\n",
    "names(movie)"
   ]
  },
  {
   "cell_type": "code",
   "execution_count": 4,
   "metadata": {
    "vscode": {
     "languageId": "r"
    }
   },
   "outputs": [
    {
     "data": {
      "text/html": [
       "<style>\n",
       ".list-inline {list-style: none; margin:0; padding: 0}\n",
       ".list-inline>li {display: inline-block}\n",
       ".list-inline>li:not(:last-child)::after {content: \"\\00b7\"; padding: 0 .5ex}\n",
       "</style>\n",
       "<ol class=list-inline><li>34</li><li>5</li></ol>\n"
      ],
      "text/latex": [
       "\\begin{enumerate*}\n",
       "\\item 34\n",
       "\\item 5\n",
       "\\end{enumerate*}\n"
      ],
      "text/markdown": [
       "1. 34\n",
       "2. 5\n",
       "\n",
       "\n"
      ],
      "text/plain": [
       "[1] 34  5"
      ]
     },
     "metadata": {},
     "output_type": "display_data"
    }
   ],
   "source": [
    "#갯수와 변수의 수 확인\n",
    "dim(movie)"
   ]
  },
  {
   "cell_type": "code",
   "execution_count": 5,
   "metadata": {
    "vscode": {
     "languageId": "r"
    }
   },
   "outputs": [
    {
     "data": {
      "text/html": [
       "<table class=\"dataframe\">\n",
       "<caption>A data.frame: 6 × 5</caption>\n",
       "<thead>\n",
       "\t<tr><th></th><th scope=col>grade</th><th scope=col>sex</th><th scope=col>group</th><th scope=col>bloodtype</th><th scope=col>choice_movie</th></tr>\n",
       "\t<tr><th></th><th scope=col>&lt;int&gt;</th><th scope=col>&lt;int&gt;</th><th scope=col>&lt;int&gt;</th><th scope=col>&lt;int&gt;</th><th scope=col>&lt;int&gt;</th></tr>\n",
       "</thead>\n",
       "<tbody>\n",
       "\t<tr><th scope=row>1</th><td>2</td><td>2</td><td>5</td><td>1</td><td>3</td></tr>\n",
       "\t<tr><th scope=row>2</th><td>1</td><td>1</td><td>2</td><td>2</td><td>3</td></tr>\n",
       "\t<tr><th scope=row>3</th><td>2</td><td>1</td><td>3</td><td>4</td><td>4</td></tr>\n",
       "\t<tr><th scope=row>4</th><td>2</td><td>2</td><td>2</td><td>5</td><td>1</td></tr>\n",
       "\t<tr><th scope=row>5</th><td>3</td><td>1</td><td>4</td><td>3</td><td>2</td></tr>\n",
       "\t<tr><th scope=row>6</th><td>4</td><td>2</td><td>5</td><td>2</td><td>1</td></tr>\n",
       "</tbody>\n",
       "</table>\n"
      ],
      "text/latex": [
       "A data.frame: 6 × 5\n",
       "\\begin{tabular}{r|lllll}\n",
       "  & grade & sex & group & bloodtype & choice\\_movie\\\\\n",
       "  & <int> & <int> & <int> & <int> & <int>\\\\\n",
       "\\hline\n",
       "\t1 & 2 & 2 & 5 & 1 & 3\\\\\n",
       "\t2 & 1 & 1 & 2 & 2 & 3\\\\\n",
       "\t3 & 2 & 1 & 3 & 4 & 4\\\\\n",
       "\t4 & 2 & 2 & 2 & 5 & 1\\\\\n",
       "\t5 & 3 & 1 & 4 & 3 & 2\\\\\n",
       "\t6 & 4 & 2 & 5 & 2 & 1\\\\\n",
       "\\end{tabular}\n"
      ],
      "text/markdown": [
       "\n",
       "A data.frame: 6 × 5\n",
       "\n",
       "| <!--/--> | grade &lt;int&gt; | sex &lt;int&gt; | group &lt;int&gt; | bloodtype &lt;int&gt; | choice_movie &lt;int&gt; |\n",
       "|---|---|---|---|---|---|\n",
       "| 1 | 2 | 2 | 5 | 1 | 3 |\n",
       "| 2 | 1 | 1 | 2 | 2 | 3 |\n",
       "| 3 | 2 | 1 | 3 | 4 | 4 |\n",
       "| 4 | 2 | 2 | 2 | 5 | 1 |\n",
       "| 5 | 3 | 1 | 4 | 3 | 2 |\n",
       "| 6 | 4 | 2 | 5 | 2 | 1 |\n",
       "\n"
      ],
      "text/plain": [
       "  grade sex group bloodtype choice_movie\n",
       "1 2     2   5     1         3           \n",
       "2 1     1   2     2         3           \n",
       "3 2     1   3     4         4           \n",
       "4 2     2   2     5         1           \n",
       "5 3     1   4     3         2           \n",
       "6 4     2   5     2         1           "
      ]
     },
     "metadata": {},
     "output_type": "display_data"
    }
   ],
   "source": [
    "#처음 6행의 값 확인\n",
    "head(movie)"
   ]
  },
  {
   "cell_type": "code",
   "execution_count": 6,
   "metadata": {
    "vscode": {
     "languageId": "r"
    }
   },
   "outputs": [
    {
     "data": {
      "text/plain": [
       "\n",
       "1 2 3 4 5 6 \n",
       "7 6 7 9 3 2 "
      ]
     },
     "metadata": {},
     "output_type": "display_data"
    },
    {
     "data": {
      "text/html": [
       "34"
      ],
      "text/latex": [
       "34"
      ],
      "text/markdown": [
       "34"
      ],
      "text/plain": [
       "[1] 34"
      ]
     },
     "metadata": {},
     "output_type": "display_data"
    }
   ],
   "source": [
    "#선호영화 빈도 테이블\n",
    "table(movie$choice_movie)\n",
    "length(movie$choice_movie)"
   ]
  },
  {
   "cell_type": "code",
   "execution_count": 7,
   "metadata": {
    "vscode": {
     "languageId": "r"
    }
   },
   "outputs": [
    {
     "data": {
      "text/plain": [
       "\n",
       "         1          2          3          4          5          6 \n",
       "0.20588235 0.17647059 0.20588235 0.26470588 0.08823529 0.05882353 "
      ]
     },
     "metadata": {},
     "output_type": "display_data"
    },
    {
     "data": {
      "text/plain": [
       "choice_movie\n",
       "         1          2          3          4          5          6 \n",
       "0.20588235 0.17647059 0.20588235 0.26470588 0.08823529 0.05882353 "
      ]
     },
     "metadata": {},
     "output_type": "display_data"
    }
   ],
   "source": [
    "#선호영화 상대도수 테이블\n",
    "table(movie$choice_movie)/length(movie$choice_movie)\n",
    "prop.table(with(movie, table(choice_movie)))"
   ]
  },
  {
   "cell_type": "code",
   "execution_count": 8,
   "metadata": {
    "vscode": {
     "languageId": "r"
    }
   },
   "outputs": [
    {
     "data": {
      "text/html": [
       "<table class=\"dataframe\">\n",
       "<caption>A matrix: 6 × 2 of type dbl</caption>\n",
       "<tbody>\n",
       "\t<tr><th scope=row>1</th><td>7</td><td>0.20588235</td></tr>\n",
       "\t<tr><th scope=row>2</th><td>6</td><td>0.17647059</td></tr>\n",
       "\t<tr><th scope=row>3</th><td>7</td><td>0.20588235</td></tr>\n",
       "\t<tr><th scope=row>4</th><td>9</td><td>0.26470588</td></tr>\n",
       "\t<tr><th scope=row>5</th><td>3</td><td>0.08823529</td></tr>\n",
       "\t<tr><th scope=row>6</th><td>2</td><td>0.05882353</td></tr>\n",
       "</tbody>\n",
       "</table>\n"
      ],
      "text/latex": [
       "A matrix: 6 × 2 of type dbl\n",
       "\\begin{tabular}{r|ll}\n",
       "\t1 & 7 & 0.20588235\\\\\n",
       "\t2 & 6 & 0.17647059\\\\\n",
       "\t3 & 7 & 0.20588235\\\\\n",
       "\t4 & 9 & 0.26470588\\\\\n",
       "\t5 & 3 & 0.08823529\\\\\n",
       "\t6 & 2 & 0.05882353\\\\\n",
       "\\end{tabular}\n"
      ],
      "text/markdown": [
       "\n",
       "A matrix: 6 × 2 of type dbl\n",
       "\n",
       "| 1 | 7 | 0.20588235 |\n",
       "| 2 | 6 | 0.17647059 |\n",
       "| 3 | 7 | 0.20588235 |\n",
       "| 4 | 9 | 0.26470588 |\n",
       "| 5 | 3 | 0.08823529 |\n",
       "| 6 | 2 | 0.05882353 |\n",
       "\n"
      ],
      "text/plain": [
       "  [,1] [,2]      \n",
       "1 7    0.20588235\n",
       "2 6    0.17647059\n",
       "3 7    0.20588235\n",
       "4 9    0.26470588\n",
       "5 3    0.08823529\n",
       "6 2    0.05882353"
      ]
     },
     "metadata": {},
     "output_type": "display_data"
    },
    {
     "data": {
      "text/html": [
       "<table class=\"dataframe\">\n",
       "<caption>A matrix: 6 × 2 of type dbl</caption>\n",
       "<tbody>\n",
       "\t<tr><th scope=row>1</th><td>7</td><td>0.20588235</td></tr>\n",
       "\t<tr><th scope=row>2</th><td>6</td><td>0.17647059</td></tr>\n",
       "\t<tr><th scope=row>3</th><td>7</td><td>0.20588235</td></tr>\n",
       "\t<tr><th scope=row>4</th><td>9</td><td>0.26470588</td></tr>\n",
       "\t<tr><th scope=row>5</th><td>3</td><td>0.08823529</td></tr>\n",
       "\t<tr><th scope=row>6</th><td>2</td><td>0.05882353</td></tr>\n",
       "</tbody>\n",
       "</table>\n"
      ],
      "text/latex": [
       "A matrix: 6 × 2 of type dbl\n",
       "\\begin{tabular}{r|ll}\n",
       "\t1 & 7 & 0.20588235\\\\\n",
       "\t2 & 6 & 0.17647059\\\\\n",
       "\t3 & 7 & 0.20588235\\\\\n",
       "\t4 & 9 & 0.26470588\\\\\n",
       "\t5 & 3 & 0.08823529\\\\\n",
       "\t6 & 2 & 0.05882353\\\\\n",
       "\\end{tabular}\n"
      ],
      "text/markdown": [
       "\n",
       "A matrix: 6 × 2 of type dbl\n",
       "\n",
       "| 1 | 7 | 0.20588235 |\n",
       "| 2 | 6 | 0.17647059 |\n",
       "| 3 | 7 | 0.20588235 |\n",
       "| 4 | 9 | 0.26470588 |\n",
       "| 5 | 3 | 0.08823529 |\n",
       "| 6 | 2 | 0.05882353 |\n",
       "\n"
      ],
      "text/plain": [
       "  [,1] [,2]      \n",
       "1 7    0.20588235\n",
       "2 6    0.17647059\n",
       "3 7    0.20588235\n",
       "4 9    0.26470588\n",
       "5 3    0.08823529\n",
       "6 2    0.05882353"
      ]
     },
     "metadata": {},
     "output_type": "display_data"
    }
   ],
   "source": [
    "#선호영화 빈도 및 상대도수 테이블\n",
    "cbind(table(movie$choice_movie), table(movie$choice_movie)/length(movie$choice_movie))\n",
    "cbind(table(movie$choice_movie), prop.table(with(movie, table(choice_movie))))"
   ]
  },
  {
   "cell_type": "code",
   "execution_count": 9,
   "metadata": {
    "vscode": {
     "languageId": "r"
    }
   },
   "outputs": [
    {
     "name": "stderr",
     "output_type": "stream",
     "text": [
      "'C:/home/R/win-library/4.1'의 위치에 패키지(들)을 설치합니다.\n",
      "(왜냐하면 'lib'가 지정되지 않았기 때문입니다)\n",
      "\n",
      "'gtools', 'gdata'(들)을 또한 설치합니다.\n",
      "\n",
      "\n"
     ]
    },
    {
     "name": "stdout",
     "output_type": "stream",
     "text": [
      "\n",
      "  There is a binary version available but the source version is later:\n",
      "        binary source needs_compilation\n",
      "gdata 2.18.0.1 2.19.0             FALSE\n",
      "\n",
      "package 'gtools' successfully unpacked and MD5 sums checked\n",
      "package 'gmodels' successfully unpacked and MD5 sums checked\n",
      "\n",
      "The downloaded binary packages are in\n",
      "\tC:\\Users\\Mee\\AppData\\Local\\Temp\\Rtmp2D6AIi\\downloaded_packages\n"
     ]
    },
    {
     "name": "stderr",
     "output_type": "stream",
     "text": [
      "소스형태의 패키지 'gdata'(들)를 설치합니다.\n",
      "\n",
      "\n",
      "Warning message:\n",
      "\"패키지 'gmodels'는 R 버전 4.1.3에서 작성되었습니다\"\n"
     ]
    }
   ],
   "source": [
    "# gmodels 패키지에 있는 CrossTable 명령어(함수) 이용\n",
    "install.packages(\"gmodels\")\n",
    "library(gmodels)"
   ]
  },
  {
   "cell_type": "code",
   "execution_count": 10,
   "metadata": {
    "vscode": {
     "languageId": "r"
    }
   },
   "outputs": [
    {
     "name": "stdout",
     "output_type": "stream",
     "text": [
      "\n",
      " \n",
      "   Cell Contents\n",
      "|-------------------------|\n",
      "|                       N |\n",
      "| Chi-square contribution |\n",
      "|           N / Row Total |\n",
      "|           N / Col Total |\n",
      "|         N / Table Total |\n",
      "|-------------------------|\n",
      "\n",
      " \n",
      "Total Observations in Table:  34 \n",
      "\n",
      " \n",
      "             | movie$choice_movie \n",
      "   movie$sex |         1 |         2 |         3 |         4 |         5 |         6 | Row Total | \n",
      "-------------|-----------|-----------|-----------|-----------|-----------|-----------|-----------|\n",
      "           1 |         1 |         3 |         3 |         6 |         2 |         0 |        15 | \n",
      "             |     1.412 |     0.047 |     0.003 |     1.037 |     0.346 |     0.882 |           | \n",
      "             |     0.067 |     0.200 |     0.200 |     0.400 |     0.133 |     0.000 |     0.441 | \n",
      "             |     0.143 |     0.500 |     0.429 |     0.667 |     0.667 |     0.000 |           | \n",
      "             |     0.029 |     0.088 |     0.088 |     0.176 |     0.059 |     0.000 |           | \n",
      "-------------|-----------|-----------|-----------|-----------|-----------|-----------|-----------|\n",
      "           2 |         6 |         3 |         4 |         3 |         1 |         2 |        19 | \n",
      "             |     1.115 |     0.037 |     0.002 |     0.819 |     0.273 |     0.697 |           | \n",
      "             |     0.316 |     0.158 |     0.211 |     0.158 |     0.053 |     0.105 |     0.559 | \n",
      "             |     0.857 |     0.500 |     0.571 |     0.333 |     0.333 |     1.000 |           | \n",
      "             |     0.176 |     0.088 |     0.118 |     0.088 |     0.029 |     0.059 |           | \n",
      "-------------|-----------|-----------|-----------|-----------|-----------|-----------|-----------|\n",
      "Column Total |         7 |         6 |         7 |         9 |         3 |         2 |        34 | \n",
      "             |     0.206 |     0.176 |     0.206 |     0.265 |     0.088 |     0.059 |           | \n",
      "-------------|-----------|-----------|-----------|-----------|-----------|-----------|-----------|\n",
      "\n",
      " \n"
     ]
    }
   ],
   "source": [
    "CrossTable(movie$sex, movie$choice_movie)"
   ]
  },
  {
   "cell_type": "code",
   "execution_count": 12,
   "metadata": {
    "vscode": {
     "languageId": "r"
    }
   },
   "outputs": [
    {
     "data": {
      "image/png": "[encoded data removed]",
      "text/plain": [
       "plot without title"
      ]
     },
     "metadata": {
      "image/png": {
       "height": 420,
       "width": 420
      }
     },
     "output_type": "display_data"
    }
   ],
   "source": [
    "#막대그림\n",
    "barplot(table(movie$choice_movie))"
   ]
  },
  {
   "cell_type": "code",
   "execution_count": 13,
   "metadata": {
    "vscode": {
     "languageId": "r"
    }
   },
   "outputs": [
    {
     "data": {
      "image/png": "[encoded data removed]",
      "text/plain": [
       "Plot with title \"선호영화 막대그림\""
      ]
     },
     "metadata": {
      "image/png": {
       "height": 420,
       "width": 420
      }
     },
     "output_type": "display_data"
    }
   ],
   "source": [
    "barplot(table(movie$choice_movie), main='선호영화 막대그림', col=c('blue', 'skyblue', 'skyblue3', 'purple', 'red', 'yellow'))"
   ]
  },
  {
   "cell_type": "code",
   "execution_count": 14,
   "metadata": {
    "vscode": {
     "languageId": "r"
    }
   },
   "outputs": [
    {
     "data": {
      "image/png": "[encoded data removed]",
      "text/plain": [
       "plot without title"
      ]
     },
     "metadata": {
      "image/png": {
       "height": 420,
       "width": 420
      }
     },
     "output_type": "display_data"
    }
   ],
   "source": [
    "#원그림\n",
    "pie(table(movie$choice_movie))"
   ]
  },
  {
   "cell_type": "code",
   "execution_count": 15,
   "metadata": {
    "vscode": {
     "languageId": "r"
    }
   },
   "outputs": [
    {
     "data": {
      "image/png": "[encoded data removed]",
      "text/plain": [
       "Plot with title \"선호영화 Pie Chart\""
      ]
     },
     "metadata": {
      "image/png": {
       "height": 420,
       "width": 420
      }
     },
     "output_type": "display_data"
    }
   ],
   "source": [
    "pie(table(movie$choice_movie), main='선호영화 Pie Chart', col=c('blue', 'skyblue', 'skyblue3', 'purple', 'red', 'yellow'))"
   ]
  },
  {
   "cell_type": "markdown",
   "metadata": {},
   "source": [
    "### 2) 양적 자료의 정리: 도수분포표, 히스토그램, 줄기-잎 그림, 산점도"
   ]
  },
  {
   "cell_type": "code",
   "execution_count": 16,
   "metadata": {
    "vscode": {
     "languageId": "r"
    }
   },
   "outputs": [],
   "source": [
    "# 데이터 불러들이기\n",
    "exam=read.csv('datasets/math_eng.csv')"
   ]
  },
  {
   "cell_type": "code",
   "execution_count": 17,
   "metadata": {
    "vscode": {
     "languageId": "r"
    }
   },
   "outputs": [
    {
     "data": {
      "text/html": [
       "<style>\n",
       ".list-inline {list-style: none; margin:0; padding: 0}\n",
       ".list-inline>li {display: inline-block}\n",
       ".list-inline>li:not(:last-child)::after {content: \"\\00b7\"; padding: 0 .5ex}\n",
       "</style>\n",
       "<ol class=list-inline><li>'No'</li><li>'math'</li><li>'eng'</li></ol>\n"
      ],
      "text/latex": [
       "\\begin{enumerate*}\n",
       "\\item 'No'\n",
       "\\item 'math'\n",
       "\\item 'eng'\n",
       "\\end{enumerate*}\n"
      ],
      "text/markdown": [
       "1. 'No'\n",
       "2. 'math'\n",
       "3. 'eng'\n",
       "\n",
       "\n"
      ],
      "text/plain": [
       "[1] \"No\"   \"math\" \"eng\" "
      ]
     },
     "metadata": {},
     "output_type": "display_data"
    }
   ],
   "source": [
    "# 변수명 확인\n",
    "names(exam)"
   ]
  },
  {
   "cell_type": "code",
   "execution_count": 18,
   "metadata": {
    "vscode": {
     "languageId": "r"
    }
   },
   "outputs": [
    {
     "data": {
      "text/html": [
       "<style>\n",
       ".list-inline {list-style: none; margin:0; padding: 0}\n",
       ".list-inline>li {display: inline-block}\n",
       ".list-inline>li:not(:last-child)::after {content: \"\\00b7\"; padding: 0 .5ex}\n",
       "</style>\n",
       "<ol class=list-inline><li>34</li><li>3</li></ol>\n"
      ],
      "text/latex": [
       "\\begin{enumerate*}\n",
       "\\item 34\n",
       "\\item 3\n",
       "\\end{enumerate*}\n"
      ],
      "text/markdown": [
       "1. 34\n",
       "2. 3\n",
       "\n",
       "\n"
      ],
      "text/plain": [
       "[1] 34  3"
      ]
     },
     "metadata": {},
     "output_type": "display_data"
    }
   ],
   "source": [
    "#갯수와 변수의 수 확인\n",
    "dim(exam)"
   ]
  },
  {
   "cell_type": "code",
   "execution_count": 19,
   "metadata": {
    "vscode": {
     "languageId": "r"
    }
   },
   "outputs": [],
   "source": [
    "# 도수분포표의 계급 지정\n",
    "a=cut(exam$eng, breaks=c(50,60,70,80, 90, 100))"
   ]
  },
  {
   "cell_type": "code",
   "execution_count": 20,
   "metadata": {
    "vscode": {
     "languageId": "r"
    }
   },
   "outputs": [
    {
     "data": {
      "text/plain": [
       "a\n",
       " (50,60]  (60,70]  (70,80]  (80,90] (90,100] \n",
       "       4        3        9        6        4 "
      ]
     },
     "metadata": {},
     "output_type": "display_data"
    }
   ],
   "source": [
    "# 도수분포표\n",
    "table(a)"
   ]
  },
  {
   "cell_type": "code",
   "execution_count": 21,
   "metadata": {
    "vscode": {
     "languageId": "r"
    }
   },
   "outputs": [
    {
     "data": {
      "text/html": [
       "<table class=\"dataframe\">\n",
       "<caption>A matrix: 5 × 4 of type dbl</caption>\n",
       "<tbody>\n",
       "\t<tr><th scope=row>(50,60]</th><td>4</td><td>0.11764706</td><td> 4</td><td>0.1176471</td></tr>\n",
       "\t<tr><th scope=row>(60,70]</th><td>3</td><td>0.08823529</td><td> 7</td><td>0.2058824</td></tr>\n",
       "\t<tr><th scope=row>(70,80]</th><td>9</td><td>0.26470588</td><td>16</td><td>0.4705882</td></tr>\n",
       "\t<tr><th scope=row>(80,90]</th><td>6</td><td>0.17647059</td><td>22</td><td>0.6470588</td></tr>\n",
       "\t<tr><th scope=row>(90,100]</th><td>4</td><td>0.11764706</td><td>26</td><td>0.7647059</td></tr>\n",
       "</tbody>\n",
       "</table>\n"
      ],
      "text/latex": [
       "A matrix: 5 × 4 of type dbl\n",
       "\\begin{tabular}{r|llll}\n",
       "\t(50,60{]} & 4 & 0.11764706 &  4 & 0.1176471\\\\\n",
       "\t(60,70{]} & 3 & 0.08823529 &  7 & 0.2058824\\\\\n",
       "\t(70,80{]} & 9 & 0.26470588 & 16 & 0.4705882\\\\\n",
       "\t(80,90{]} & 6 & 0.17647059 & 22 & 0.6470588\\\\\n",
       "\t(90,100{]} & 4 & 0.11764706 & 26 & 0.7647059\\\\\n",
       "\\end{tabular}\n"
      ],
      "text/markdown": [
       "\n",
       "A matrix: 5 × 4 of type dbl\n",
       "\n",
       "| (50,60] | 4 | 0.11764706 |  4 | 0.1176471 |\n",
       "| (60,70] | 3 | 0.08823529 |  7 | 0.2058824 |\n",
       "| (70,80] | 9 | 0.26470588 | 16 | 0.4705882 |\n",
       "| (80,90] | 6 | 0.17647059 | 22 | 0.6470588 |\n",
       "| (90,100] | 4 | 0.11764706 | 26 | 0.7647059 |\n",
       "\n"
      ],
      "text/plain": [
       "         [,1] [,2]       [,3] [,4]     \n",
       "(50,60]  4    0.11764706  4   0.1176471\n",
       "(60,70]  3    0.08823529  7   0.2058824\n",
       "(70,80]  9    0.26470588 16   0.4705882\n",
       "(80,90]  6    0.17647059 22   0.6470588\n",
       "(90,100] 4    0.11764706 26   0.7647059"
      ]
     },
     "metadata": {},
     "output_type": "display_data"
    }
   ],
   "source": [
    "# 도수, %, 누적도수 누적 %\n",
    "cbind(table(a), table(a)/length(a), cumsum(table(a)), cumsum(table(a)/length(a)))"
   ]
  },
  {
   "cell_type": "code",
   "execution_count": 23,
   "metadata": {
    "vscode": {
     "languageId": "r"
    }
   },
   "outputs": [
    {
     "data": {
      "image/png": "[encoded data removed]",
      "text/plain": [
       "Plot with title \"Histogram of exam$eng\""
      ]
     },
     "metadata": {
      "image/png": {
       "height": 420,
       "width": 420
      }
     },
     "output_type": "display_data"
    }
   ],
   "source": [
    "# 히스토그램\n",
    "hist(exam$eng)"
   ]
  },
  {
   "cell_type": "code",
   "execution_count": 24,
   "metadata": {
    "vscode": {
     "languageId": "r"
    }
   },
   "outputs": [
    {
     "data": {
      "image/png": "[encoded data removed]",
      "text/plain": [
       "Plot with title \"Histogram of exam$eng\""
      ]
     },
     "metadata": {
      "image/png": {
       "height": 420,
       "width": 420
      }
     },
     "output_type": "display_data"
    }
   ],
   "source": [
    "hist(exam$eng, breaks=4) # 구간의 개수 지정"
   ]
  },
  {
   "cell_type": "code",
   "execution_count": 25,
   "metadata": {
    "vscode": {
     "languageId": "r"
    }
   },
   "outputs": [
    {
     "data": {
      "image/png": "[encoded data removed]",
      "text/plain": [
       "Plot with title \"Histogram of exam$eng\""
      ]
     },
     "metadata": {
      "image/png": {
       "height": 420,
       "width": 420
      }
     },
     "output_type": "display_data"
    }
   ],
   "source": [
    "# 계급 지정 시\n",
    "hist(exam$eng,breaks=c(21.5,33.5,45.5,57.5, 69.5, 81.5, 93.5))"
   ]
  },
  {
   "cell_type": "code",
   "execution_count": 26,
   "metadata": {
    "vscode": {
     "languageId": "r"
    }
   },
   "outputs": [
    {
     "data": {
      "image/png": "[encoded data removed]",
      "text/plain": [
       "Plot with title \"Histogram of exam$eng\""
      ]
     },
     "metadata": {
      "image/png": {
       "height": 420,
       "width": 420
      }
     },
     "output_type": "display_data"
    }
   ],
   "source": [
    "# 상대도수를 Y 축에\n",
    "hist(exam$eng, probability=TRUE)"
   ]
  },
  {
   "cell_type": "code",
   "execution_count": 27,
   "metadata": {
    "vscode": {
     "languageId": "r"
    }
   },
   "outputs": [
    {
     "data": {
      "image/png": "[encoded data removed]",
      "text/plain": [
       "Plot with title \"Histogram of exam$eng\""
      ]
     },
     "metadata": {
      "image/png": {
       "height": 420,
       "width": 420
      }
     },
     "output_type": "display_data"
    }
   ],
   "source": [
    "# 색깔 추가\n",
    "hist(exam$eng, probability=TRUE, col=c('blue', 'skyblue', 'skyblue3', 'purple', 'red', 'yellow'))"
   ]
  },
  {
   "cell_type": "code",
   "execution_count": 28,
   "metadata": {
    "vscode": {
     "languageId": "r"
    }
   },
   "outputs": [
    {
     "data": {
      "image/png": "[encoded data removed]",
      "text/plain": [
       "Plot with title \"기말점수 히스토그램\""
      ]
     },
     "metadata": {
      "image/png": {
       "height": 420,
       "width": 420
      }
     },
     "output_type": "display_data"
    }
   ],
   "source": [
    "# 제목 달기\n",
    "hist(exam$eng, probability=TRUE, col=c('blue', 'skyblue', 'skyblue3', 'purple', 'red', 'yellow'), \n",
    "    xlab=\"기말점수\", ylab=\"상대도수\", main=\"기말점수 히스토그램\")"
   ]
  },
  {
   "cell_type": "code",
   "execution_count": 31,
   "metadata": {
    "vscode": {
     "languageId": "r"
    }
   },
   "outputs": [
    {
     "data": {
      "image/png": "[encoded data removed]",
      "text/plain": [
       "Plot with title \"기말점수 히스토그램\""
      ]
     },
     "metadata": {
      "image/png": {
       "height": 420,
       "width": 420
      }
     },
     "output_type": "display_data"
    }
   ],
   "source": [
    "# 분포선 추가\n",
    "hist(exam$eng, probability=TRUE, col=c('blue', 'skyblue', 'skyblue3', 'purple', 'red', 'yellow'), \n",
    "    xlab=\"기말점수\", ylab=\"상대도수\", main=\"기말점수 히스토그램\")\n",
    "lines(density(exam$eng), col='black')"
   ]
  },
  {
   "cell_type": "code",
   "execution_count": 32,
   "metadata": {
    "vscode": {
     "languageId": "r"
    }
   },
   "outputs": [
    {
     "name": "stdout",
     "output_type": "stream",
     "text": [
      "\n",
      "  The decimal point is 1 digit(s) to the right of the |\n",
      "\n",
      "   0 | 7\n",
      "   1 | \n",
      "   2 | \n",
      "   3 | \n",
      "   4 | 5\n",
      "   5 | 0155\n",
      "   6 | 00457\n",
      "   7 | 023558\n",
      "   8 | 0001255678\n",
      "   9 | 55688\n",
      "  10 | 00\n",
      "\n"
     ]
    }
   ],
   "source": [
    "# 줄기-잎 그림\n",
    "stem(exam$math)"
   ]
  },
  {
   "cell_type": "code",
   "execution_count": 33,
   "metadata": {
    "vscode": {
     "languageId": "r"
    }
   },
   "outputs": [
    {
     "name": "stdout",
     "output_type": "stream",
     "text": [
      "\n",
      "  The decimal point is 1 digit(s) to the right of the |\n",
      "\n",
      "  2 | 2\n",
      "  3 | 06\n",
      "  4 | 00579\n",
      "  5 | 239\n",
      "  6 | 025\n",
      "  7 | 01235589\n",
      "  8 | 0025889\n",
      "  9 | 02223\n",
      "\n"
     ]
    }
   ],
   "source": [
    "stem(exam$eng)"
   ]
  },
  {
   "cell_type": "code",
   "execution_count": 34,
   "metadata": {
    "vscode": {
     "languageId": "r"
    }
   },
   "outputs": [
    {
     "name": "stdout",
     "output_type": "stream",
     "text": [
      "\n",
      "  The decimal point is 1 digit(s) to the right of the |\n",
      "\n",
      "   0 | 7\n",
      "   1 | \n",
      "   1 | \n",
      "   2 | \n",
      "   2 | \n",
      "   3 | \n",
      "   3 | \n",
      "   4 | \n",
      "   4 | 5\n",
      "   5 | 01\n",
      "   5 | 55\n",
      "   6 | 004\n",
      "   6 | 57\n",
      "   7 | 023\n",
      "   7 | 558\n",
      "   8 | 00012\n",
      "   8 | 55678\n",
      "   9 | \n",
      "   9 | 55688\n",
      "  10 | 00\n",
      "\n"
     ]
    }
   ],
   "source": [
    "stem(exam$math, 2) #줄기를 2배로 늘리기"
   ]
  },
  {
   "cell_type": "code",
   "execution_count": 35,
   "metadata": {
    "vscode": {
     "languageId": "r"
    }
   },
   "outputs": [
    {
     "name": "stdout",
     "output_type": "stream",
     "text": [
      "\n",
      "  The decimal point is 1 digit(s) to the right of the |\n",
      "\n",
      "   0 | 7\n",
      "   2 | \n",
      "   4 | 50155\n",
      "   6 | 00457023558\n",
      "   8 | 000125567855688\n",
      "  10 | 00\n",
      "\n"
     ]
    }
   ],
   "source": [
    "stem(exam$math, 0.5) #줄기를 0.5배로 줄이기"
   ]
  },
  {
   "cell_type": "code",
   "execution_count": 36,
   "metadata": {
    "vscode": {
     "languageId": "r"
    }
   },
   "outputs": [
    {
     "data": {
      "image/png": "[encoded data removed]",
      "text/plain": [
       "plot without title"
      ]
     },
     "metadata": {
      "image/png": {
       "height": 420,
       "width": 420
      }
     },
     "output_type": "display_data"
    }
   ],
   "source": [
    "# 상자그림\n",
    "boxplot(exam$math, exam$eng)"
   ]
  },
  {
   "cell_type": "code",
   "execution_count": 37,
   "metadata": {
    "vscode": {
     "languageId": "r"
    }
   },
   "outputs": [
    {
     "data": {
      "image/png": "[encoded data removed]",
      "text/plain": [
       "plot without title"
      ]
     },
     "metadata": {
      "image/png": {
       "height": 420,
       "width": 420
      }
     },
     "output_type": "display_data"
    },
    {
     "data": {
      "image/png": "[encoded data removed]",
      "text/plain": [
       "plot without title"
      ]
     },
     "metadata": {
      "image/png": {
       "height": 420,
       "width": 420
      }
     },
     "output_type": "display_data"
    }
   ],
   "source": [
    "# 산점도\n",
    "plot(exam$math, exam$eng)\n",
    "plot(formula=eng~math, data=exam)"
   ]
  }
 ],
 "metadata": {
  "kernelspec": {
   "display_name": "R",
   "language": "R",
   "name": "ir"
  },
  "language_info": {
   "codemirror_mode": "r",
   "file_extension": ".r",
   "mimetype": "text/x-r-source",
   "name": "R",
   "pygments_lexer": "r",
   "version": "4.1.2"
  },
  "orig_nbformat": 4
 },
 "nbformat": 4,
 "nbformat_minor": 2
}
